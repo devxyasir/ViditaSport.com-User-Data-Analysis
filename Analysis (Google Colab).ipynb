{
  "cells": [
    {
      "cell_type": "markdown",
      "source": [
        "## **Vidita Sports.com** Data Analysis\n",
        "\n",
        "\n",
        "*   Importing Libraries\n",
        "*   Creating SparkSession\n",
        "\n",
        "\n",
        "\n"
      ],
      "metadata": {
        "id": "wQe_4oKBsouQ"
      }
    },
    {
      "cell_type": "code",
      "source": [
        "from pyspark.sql import SparkSession\n",
        "\n",
        "spark = SparkSession.builder.appName(\"Vidita Sports.com\").getOrCreate()\n"
      ],
      "metadata": {
        "id": "8CnXsU6mR_iw"
      },
      "execution_count": 31,
      "outputs": []
    },
    {
      "cell_type": "markdown",
      "source": [
        "# **Reading File Content**"
      ],
      "metadata": {
        "id": "PLvo9LNSuqGp"
      }
    },
    {
      "cell_type": "code",
      "source": [
        "df = spark.read.csv(\"sports.csv\", header=True, inferSchema=True)\n",
        "df.show()"
      ],
      "metadata": {
        "id": "FjXgZ1JlS9Cu",
        "outputId": "243e9be1-e458-4bd3-883d-9e371a7bb34a",
        "colab": {
          "base_uri": "https://localhost:8080/"
        }
      },
      "execution_count": 34,
      "outputs": [
        {
          "output_type": "stream",
          "name": "stdout",
          "text": [
            "-------------------------------------------\n",
            "Time: 2024-12-14 05:42:03\n",
            "-------------------------------------------\n",
            "\n",
            "+--------------------+----------+------------+--------------------+-------------------+-------------------+--------------------+------------------+\n",
            "|               email| firstname|    lastname|       password_hash|      _address_city|_address_country_id|     _address_street|_address_telephone|\n",
            "+--------------------+----------+------------+--------------------+-------------------+-------------------+--------------------+------------------+\n",
            "|        h.e.v.s@i.ua|   Dmitriy|     Ishchuk|e77495e89138e732b...|               NULL|               NULL|                NULL|              NULL|\n",
            "|h.e.v.s.i.ua@gmai...|   Dmitriy|     Ishchuk|3160f7932874e3260...|              Город|                 UA|               Улица|     093 699 3 669|\n",
            "|support@vidita-sp...|   Dmitriy|     Ishchuk|8675fe6365733e0c8...|               Киев|                 UA|    ул. Дегтяревская|     093 699 3 669|\n",
            "|     dmis@shopium.ua|   Дмитрий|        Ищук|b4ed026834e999c63...|               Киев|                 UA|   Харьковское шоссе|     093 699 3 669|\n",
            "|Kornienko.D77@lis...|      Дима|   Корниенко|523fe6a5c2d4d9671...|          Борисполь|                 UA|           Борисполь|         632777173|\n",
            "|reklama.landing@g...| Олександр|     Баталін|c059743ae82d64133...|          м. Рівне |                 UA|     Набережна 20\\38|         963822634|\n",
            "|                NULL|      NULL|        NULL|                NULL|          м. Рівне |                 UA|м. Рівне, Нова по...|         963822634|\n",
            "|   vsukharev@ukr.net|  Владимир|     Сухарев|11ce733e854cb4c43...|              Львов|                 UA|новая почта отдел...|         673134282|\n",
            "| gross1497@gmail.com|Владислав |      Гросул|589a0f8a0b308cc94...|              Ясіня|                 UA|       вул. Миру, 48|      380680511957|\n",
            "|MAPIHA20082008@uk...|    Марина|       Гижко|1fff741632810f1f1...|              city |                 UA|              region|     093-885-92-68|\n",
            "|bon.sai.87.ua@gma...|    Карина|      Нестер|8bc319edcac548b89...|              city |                 UA|              region|         634543639|\n",
            "|        vav840@bk.ru|   Алексей|     Ворона-|e5a1be4ec50bbd5c4...|              city |                 UA|              region|     067-612-92-74|\n",
            "|e_kondratuk@inbox.ru|   Евгений|   Кондратюк|acf9ce093ab5b57bc...|              city |                 UA|              region|         500390781|\n",
            "|Alexshulz83@gmail...|   Алексей|      Шульга|3567d6618739a51c3...|          city Kiev|                 UA|         Kiev region|         676986524|\n",
            "|     Savka75@mail.ua|  Наталия |    Жученко |e6a402786cac4c666...|              city |                 UA|              region|      380501955550|\n",
            "|  omofor72@gmail.com|   Наталья|   Перетятая|a9c7add08dc3356a1...|              city |                 UA|              region|      380956175667|\n",
            "| irisha051081@mai.ru| александр|      чубарь|807a1e071fd94ed11...|        city Odessa|                 UA|       Odessa region|         504870556|\n",
            "|     vestdesign@i.ua|      Юрий|      Веклич|075162850a67d8413...|city Dnepropetrovsk|                 UA|Dnepropetrovsk re...|         505304049|\n",
            "|    sppu86@gmail.com|      юрий|  кульбачный|0570041a88f7acb36...|          city Lvov|                 UA|         Lvov region|         976908825|\n",
            "| Olga85-2007@ukr.net|     Ольга|Пустомитенко|38c279ff75575471f...|              city |                 UA|              region|         974931104|\n",
            "+--------------------+----------+------------+--------------------+-------------------+-------------------+--------------------+------------------+\n",
            "only showing top 20 rows\n",
            "\n",
            "-------------------------------------------\n",
            "Time: 2024-12-14 05:42:04\n",
            "-------------------------------------------\n",
            "\n"
          ]
        }
      ]
    },
    {
      "cell_type": "markdown",
      "source": [
        "> **Clean and Modify the Address Fields**\n",
        "\n",
        "\n",
        "\n",
        "\n",
        "\n",
        "The address columns (_address_city, _address_country_id, _address_street, _address_telephone) need cleaning. Let's start by:\n",
        "\n",
        "\n",
        "\n",
        "*   Removing leading/trailing spaces.\n",
        "* Renaming columns for better readability.\n",
        "* Removing any rows with missing address data.\n"
      ],
      "metadata": {
        "id": "v3qjuvNTu5NZ"
      }
    },
    {
      "cell_type": "code",
      "source": [
        "# Trim spaces and rename columns\n",
        "df_clean = df \\\n",
        "    .withColumn(\"city\", df[\"_address_city\"].alias(\"city\").cast(\"string\")) \\\n",
        "    .withColumn(\"country\", df[\"_address_country_id\"].alias(\"country_id\").cast(\"string\")) \\\n",
        "    .withColumn(\"street\", df[\"_address_street\"].alias(\"street\").cast(\"string\")) \\\n",
        "    .withColumn(\"telephone\", df[\"_address_telephone\"].alias(\"telephone\").cast(\"string\")) \\\n",
        "    .drop(\"_address_city\", \"_address_country_id\", \"_address_street\", \"_address_telephone\")\n",
        "\n",
        "# Remove rows with missing address data\n",
        "df_clean = df_clean.dropna(subset=[\"city\", \"country\", \"street\", \"telephone\"],  how=\"any\")\n",
        "df_clean = df_clean.drop(\"city\", \"street\")\n",
        "# Show the cleaned data\n",
        "df_clean.show(5)\n"
      ],
      "metadata": {
        "id": "Qzmu91MmtH5v",
        "outputId": "f7d8ed8e-5847-4962-c2c9-10906801aa1f",
        "colab": {
          "base_uri": "https://localhost:8080/"
        }
      },
      "execution_count": 61,
      "outputs": [
        {
          "output_type": "stream",
          "name": "stdout",
          "text": [
            "-------------------------------------------\n",
            "Time: 2024-12-14 06:12:27\n",
            "-------------------------------------------\n",
            "\n",
            "+--------------------+---------+---------+--------------------+-------+-------------+\n",
            "|               email|firstname| lastname|       password_hash|country|    telephone|\n",
            "+--------------------+---------+---------+--------------------+-------+-------------+\n",
            "|h.e.v.s.i.ua@gmai...|  Dmitriy|  Ishchuk|3160f7932874e3260...|     UA|093 699 3 669|\n",
            "|support@vidita-sp...|  Dmitriy|  Ishchuk|8675fe6365733e0c8...|     UA|093 699 3 669|\n",
            "|     dmis@shopium.ua|  Дмитрий|     Ищук|b4ed026834e999c63...|     UA|093 699 3 669|\n",
            "|Kornienko.D77@lis...|     Дима|Корниенко|523fe6a5c2d4d9671...|     UA|    632777173|\n",
            "|reklama.landing@g...|Олександр|  Баталін|c059743ae82d64133...|     UA|    963822634|\n",
            "+--------------------+---------+---------+--------------------+-------+-------------+\n",
            "only showing top 5 rows\n",
            "\n"
          ]
        }
      ]
    },
    {
      "cell_type": "markdown",
      "source": [
        "# **Step 4: Data Aggregation and Analysis**"
      ],
      "metadata": {
        "id": "9tbjHQvwv5IQ"
      }
    },
    {
      "cell_type": "code",
      "source": [
        "df_country_count = df_clean.groupBy(\"country\").count()\n",
        "df_country_count.show()"
      ],
      "metadata": {
        "id": "rjGCWhyYvsiD",
        "outputId": "56e49d13-8022-41fd-a4f5-231a7d2f6406",
        "colab": {
          "base_uri": "https://localhost:8080/"
        }
      },
      "execution_count": 62,
      "outputs": [
        {
          "output_type": "stream",
          "name": "stdout",
          "text": [
            "-------------------------------------------\n",
            "Time: 2024-12-14 06:12:33\n",
            "-------------------------------------------\n",
            "\n",
            "+-------+-----+\n",
            "|country|count|\n",
            "+-------+-----+\n",
            "|     UA|  738|\n",
            "+-------+-----+\n",
            "\n"
          ]
        }
      ]
    },
    {
      "cell_type": "markdown",
      "source": [
        "# **Step 5 :  Save the Data to a New CSV File**"
      ],
      "metadata": {
        "id": "OMGWRNAQwE8v"
      }
    },
    {
      "cell_type": "code",
      "source": [
        "df_clean.write.csv(\"vidita_sports_clean.csv\", mode=\"overwrite\" ,header=True)"
      ],
      "metadata": {
        "id": "2WYn7lQMwMbk",
        "outputId": "c8c31d5d-96fd-4fa6-a844-9dacc2e5e0d3",
        "colab": {
          "base_uri": "https://localhost:8080/"
        }
      },
      "execution_count": 63,
      "outputs": [
        {
          "output_type": "stream",
          "name": "stdout",
          "text": [
            "-------------------------------------------\n",
            "Time: 2024-12-14 06:12:35\n",
            "-------------------------------------------\n",
            "\n",
            "-------------------------------------------\n",
            "Time: 2024-12-14 06:12:36\n",
            "-------------------------------------------\n",
            "\n"
          ]
        }
      ]
    }
  ],
  "metadata": {
    "colab": {
      "provenance": []
    },
    "kernelspec": {
      "display_name": "Python 3",
      "name": "python3"
    }
  },
  "nbformat": 4,
  "nbformat_minor": 0
}